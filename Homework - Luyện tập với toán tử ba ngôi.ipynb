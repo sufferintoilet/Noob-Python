{
 "cells": [
  {
   "cell_type": "code",
   "execution_count": 1,
   "id": "b3023ea3-86b5-487a-8c87-d6862982c29c",
   "metadata": {},
   "outputs": [
    {
     "name": "stdin",
     "output_type": "stream",
     "text": [
      "vui lòng nhập số nguyên 6\n"
     ]
    },
    {
     "name": "stdout",
     "output_type": "stream",
     "text": [
      "6 là số chẵn\n"
     ]
    }
   ],
   "source": [
    "số_nguyên = int(input(\"vui lòng nhập số nguyên\"))\n",
    "if số_nguyên % 2 == 0:\n",
    "    print(f\"{số_nguyên} là số chẵn\")\n",
    "else:\n",
    "    print(f\"{số_nguyên} là số lẻ\") "
   ]
  }
 ],
 "metadata": {
  "kernelspec": {
   "display_name": "Python 3 (ipykernel)",
   "language": "python",
   "name": "python3"
  },
  "language_info": {
   "codemirror_mode": {
    "name": "ipython",
    "version": 3
   },
   "file_extension": ".py",
   "mimetype": "text/x-python",
   "name": "python",
   "nbconvert_exporter": "python",
   "pygments_lexer": "ipython3",
   "version": "3.11.4"
  }
 },
 "nbformat": 4,
 "nbformat_minor": 5
}
